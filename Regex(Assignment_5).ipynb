{
  "nbformat": 4,
  "nbformat_minor": 0,
  "metadata": {
    "colab": {
      "name": "Regex(Assignment 5).ipynb",
      "provenance": [],
      "collapsed_sections": []
    },
    "kernelspec": {
      "name": "python3",
      "display_name": "Python 3"
    },
    "language_info": {
      "name": "python"
    }
  },
  "cells": [
    {
      "cell_type": "markdown",
      "metadata": {
        "id": "7fGQqoSPzj73"
      },
      "source": [
        "#Task 5\n",
        "SIRSS1027\n",
        "\n",
        "Aanchal Saxena\n",
        "\n",
        "\n",
        "\n",
        "\n"
      ]
    },
    {
      "cell_type": "code",
      "metadata": {
        "colab": {
          "base_uri": "https://localhost:8080/"
        },
        "id": "whvASRr1nM5V",
        "outputId": "6f50c110-d9e6-45b2-8d49-076c6df08d46"
      },
      "source": [
        "for i in range(5,0,-1):\n",
        "  for j in range(0,i):\n",
        "    print(\"5\", end=' ')\n",
        "  print(' ')"
      ],
      "execution_count": 30,
      "outputs": [
        {
          "output_type": "stream",
          "text": [
            "5 5 5 5 5  \n",
            "5 5 5 5  \n",
            "5 5 5  \n",
            "5 5  \n",
            "5  \n"
          ],
          "name": "stdout"
        }
      ]
    },
    {
      "cell_type": "code",
      "metadata": {
        "colab": {
          "base_uri": "https://localhost:8080/"
        },
        "id": "vAl3fBWTntHo",
        "outputId": "bf114606-d578-4a86-914a-59e2c896ef08"
      },
      "source": [
        "for i in range(5,0,-1):\n",
        "  for j in range(0,i+1):\n",
        "    print(j, end=' ')\n",
        "  print(' ')"
      ],
      "execution_count": null,
      "outputs": [
        {
          "output_type": "stream",
          "text": [
            "0 1 2 3 4 5  \n",
            "0 1 2 3 4  \n",
            "0 1 2 3  \n",
            "0 1 2  \n",
            "0 1  \n"
          ],
          "name": "stdout"
        }
      ]
    },
    {
      "cell_type": "code",
      "metadata": {
        "colab": {
          "base_uri": "https://localhost:8080/"
        },
        "id": "Y3LkSqAin2wD",
        "outputId": "b07a21f0-2a7c-4630-d9ad-a79e13cf9df9"
      },
      "source": [
        "for i in range(1,6):\n",
        "    for j in range(1,i+1):\n",
        "        print((i * 2 - 1), end=' ')\n",
        "    print('')"
      ],
      "execution_count": null,
      "outputs": [
        {
          "output_type": "stream",
          "text": [
            "1 \n",
            "3 3 \n",
            "5 5 5 \n",
            "7 7 7 7 \n",
            "9 9 9 9 9 \n"
          ],
          "name": "stdout"
        }
      ]
    },
    {
      "cell_type": "code",
      "metadata": {
        "colab": {
          "base_uri": "https://localhost:8080/"
        },
        "id": "Q5W4LhAtqwBP",
        "outputId": "e69afca6-2994-4fdc-ff4e-043915ece8d9"
      },
      "source": [
        "for i in range(1,7):\n",
        "  for j in range(i,1,-1):\n",
        "    print(j-1, end=' ')\n",
        "  print('')"
      ],
      "execution_count": null,
      "outputs": [
        {
          "output_type": "stream",
          "text": [
            "\n",
            "1 \n",
            "2 1 \n",
            "3 2 1 \n",
            "4 3 2 1 \n",
            "5 4 3 2 1 \n"
          ],
          "name": "stdout"
        }
      ]
    },
    {
      "cell_type": "code",
      "metadata": {
        "colab": {
          "base_uri": "https://localhost:8080/"
        },
        "id": "0wzVzWyLr295",
        "outputId": "3f46b203-5df8-4a6a-b95d-b008c814584d"
      },
      "source": [
        "k=1\n",
        "for i in range(1,5):\n",
        "  if i % 2 == 0:\n",
        "    for j in range(1,i+1):\n",
        "      print(k,end=' ')\n",
        "      k-=1\n",
        "    print(' ')\n",
        "    k+=i+1\n",
        "  else:\n",
        "    for j in range(1,i+1):\n",
        "      print(k,end=' ')\n",
        "      k+=1\n",
        "    print(' ')\n",
        "    k+=i\n",
        "  "
      ],
      "execution_count": null,
      "outputs": [
        {
          "output_type": "stream",
          "text": [
            "1  \n",
            "3 2  \n",
            "4 5 6  \n",
            "10 9 8 7  \n"
          ],
          "name": "stdout"
        }
      ]
    },
    {
      "cell_type": "code",
      "metadata": {
        "colab": {
          "base_uri": "https://localhost:8080/"
        },
        "id": "xDJxFNDHvCQo",
        "outputId": "157540ac-10e6-404f-df98-9814695a6443"
      },
      "source": [
        "for i in range(1,8):\n",
        "  k = 1\n",
        "  for j in range(1,i+1):\n",
        "    print(k, end=' ')\n",
        "    k = int(k*(i-j)/j)\n",
        "  print('')\n"
      ],
      "execution_count": null,
      "outputs": [
        {
          "output_type": "stream",
          "text": [
            "1 \n",
            "1 1 \n",
            "1 2 1 \n",
            "1 3 3 1 \n",
            "1 4 6 4 1 \n",
            "1 5 10 10 5 1 \n",
            "1 6 15 20 15 6 1 \n"
          ],
          "name": "stdout"
        }
      ]
    },
    {
      "cell_type": "code",
      "metadata": {
        "colab": {
          "base_uri": "https://localhost:8080/"
        },
        "id": "hedpuhPRuW0_",
        "outputId": "a6d1c833-b7f4-4f72-e52b-b32e5457476f"
      },
      "source": [
        "for i in range(1,6):\n",
        "  for j in range(1,6):\n",
        "    if i == 5 or j == 5:\n",
        "      print('5', end=' ')\n",
        "    elif i == 4 or j == 4:\n",
        "      print('4', end=' ')\n",
        "    elif i == 3 or j == 3:\n",
        "      print('3', end=' ')\n",
        "    elif i == 2 or j == 2:\n",
        "      print('2', end=' ')\n",
        "    elif i == 1 or j == 1:\n",
        "      print('1', end=' ')\n",
        "    else:\n",
        "      print(' ', end=' ')\n",
        "    \n",
        "    \n",
        "  print(' ')\n",
        "    "
      ],
      "execution_count": null,
      "outputs": [
        {
          "output_type": "stream",
          "text": [
            "1 2 3 4 5  \n",
            "2 2 3 4 5  \n",
            "3 3 3 4 5  \n",
            "4 4 4 4 5  \n",
            "5 5 5 5 5  \n"
          ],
          "name": "stdout"
        }
      ]
    },
    {
      "cell_type": "code",
      "metadata": {
        "colab": {
          "base_uri": "https://localhost:8080/"
        },
        "id": "SEPtZwK0zwXb",
        "outputId": "982e2ebc-1e43-4a8c-a203-1bfa79776399"
      },
      "source": [
        "lst = [1,2,3,4,5,6,7,8]\n",
        "for i in range(0,9):\n",
        "  for j in range(0,i):\n",
        "    if j == 0:\n",
        "      print((j+1)*lst[0], end=' ')\n",
        "      lst[0]+=1\n",
        "    elif j == 1:\n",
        "      print((j+1)*lst[1], end=' ')\n",
        "      lst[1]+=1\n",
        "    elif j == 2:\n",
        "      print((j+1)*lst[2], end=' ')\n",
        "      lst[2]+=1\n",
        "    elif j == 3:\n",
        "      print((j+1)*lst[3], end=' ')\n",
        "      lst[3]+=1\n",
        "    elif j == 4:\n",
        "      print((j+1)*lst[4], end=' ')\n",
        "      lst[4]+=1\n",
        "    elif j == 5:\n",
        "      print((j+1)*lst[5], end=' ')\n",
        "      lst[5]+=1\n",
        "    elif j == 6:\n",
        "      print((j+1)*lst[6], end=' ')\n",
        "      lst[6]+=1\n",
        "    elif j == 7:\n",
        "      print((j+1)*lst[7], end=' ')\n",
        "      lst[7]+=1\n",
        "    elif j == 8:\n",
        "      print((j+1)*lst[8], end=' ')\n",
        "      lst[8]+=1\n",
        "  print('')"
      ],
      "execution_count": null,
      "outputs": [
        {
          "output_type": "stream",
          "text": [
            "\n",
            "1 \n",
            "2 4 \n",
            "3 6 9 \n",
            "4 8 12 16 \n",
            "5 10 15 20 25 \n",
            "6 12 18 24 30 36 \n",
            "7 14 21 28 35 42 49 \n",
            "8 16 24 32 40 48 56 64 \n"
          ],
          "name": "stdout"
        }
      ]
    },
    {
      "cell_type": "code",
      "metadata": {
        "colab": {
          "base_uri": "https://localhost:8080/"
        },
        "id": "VphzfbQJ1Vp_",
        "outputId": "572ccf73-28d7-41d5-9e61-b8632094f70b"
      },
      "source": [
        "rows = int(input(\"Enter the number of rows: \"))  \n",
        "    \n",
        "k = 2 * rows - 2  \n",
        "for i in range(rows, -1, -1):   \n",
        "    for j in range(k, 0, -1):  \n",
        "        print(end=\" \")  \n",
        "    k = k + 1   \n",
        "    for j in range(0, i + 1):  \n",
        "        print(\"*\", end=\" \")  \n",
        "    print(\"\")  "
      ],
      "execution_count": null,
      "outputs": [
        {
          "output_type": "stream",
          "text": [
            "Enter the number of rows: 6\n",
            "          * * * * * * * \n",
            "           * * * * * * \n",
            "            * * * * * \n",
            "             * * * * \n",
            "              * * * \n",
            "               * * \n",
            "                * \n"
          ],
          "name": "stdout"
        }
      ]
    },
    {
      "cell_type": "code",
      "metadata": {
        "colab": {
          "base_uri": "https://localhost:8080/"
        },
        "id": "xQWakvYn1bJ4",
        "outputId": "44fc40be-645a-4e85-bdbe-0650ebf59a8f"
      },
      "source": [
        "n = int(input(\"Enter the number of rows: \"))  \n",
        "m = (2 * n) - 2  \n",
        "for i in range(0, n):  \n",
        "    for j in range(0, m):  \n",
        "        print(end=\" \")  \n",
        "    m = m - 1 \n",
        "    for j in range(0, i + 1): \n",
        "        print(\"* \", end=' ')  \n",
        "    print(\" \")  "
      ],
      "execution_count": null,
      "outputs": [
        {
          "output_type": "stream",
          "text": [
            "Enter the number of rows: 7\n",
            "            *   \n",
            "           *  *   \n",
            "          *  *  *   \n",
            "         *  *  *  *   \n",
            "        *  *  *  *  *   \n",
            "       *  *  *  *  *  *   \n",
            "      *  *  *  *  *  *  *   \n"
          ],
          "name": "stdout"
        }
      ]
    },
    {
      "cell_type": "code",
      "metadata": {
        "colab": {
          "base_uri": "https://localhost:8080/"
        },
        "id": "tCqv7Y9k1hI2",
        "outputId": "2764deb1-7ce0-42bf-d3ff-ebeb9d0560ae"
      },
      "source": [
        "rows = int(input(\"Enter the number of rows: \"))  \n",
        "  \n",
        "for i in range(0, rows):  \n",
        " \n",
        "    for j in range(0, i + 1):  \n",
        "        print(\"*\", end=' ')    \n",
        "    print(\" \")  \n",
        "# Second pattern  \n",
        "print('')\n",
        "for i in range(rows + 1, 0, -1):  \n",
        "    for j in range(0, i - 1):  \n",
        "        print(\"*\", end=' ')  \n",
        "    print(\" \")  "
      ],
      "execution_count": null,
      "outputs": [
        {
          "output_type": "stream",
          "text": [
            "Enter the number of rows: 6\n",
            "*  \n",
            "* *  \n",
            "* * *  \n",
            "* * * *  \n",
            "* * * * *  \n",
            "* * * * * *  \n",
            "\n",
            "* * * * * *  \n",
            "* * * * *  \n",
            "* * * *  \n",
            "* * *  \n",
            "* *  \n",
            "*  \n",
            " \n"
          ],
          "name": "stdout"
        }
      ]
    },
    {
      "cell_type": "code",
      "metadata": {
        "colab": {
          "base_uri": "https://localhost:8080/"
        },
        "id": "P9P4dx9E10Dz",
        "outputId": "79e110a7-0c70-4cf4-8e96-bdd2f69f9e56"
      },
      "source": [
        "rows = int(input(\"Enter the number of rows: \"))  \n",
        "  \n",
        "for i in range(0, rows):  \n",
        "     \n",
        "    for j in range(0, i + 1):  \n",
        "        print(\"*\", end=' ')  \n",
        "      \n",
        "    print(\" \")  \n",
        "\n",
        "#Second pattern  \n",
        "\n",
        "for i in range(rows , 0, -1):  \n",
        "    for j in range(0, i - 1):  \n",
        "        print(\"*\", end=' ')  \n",
        "    print(\" \")  "
      ],
      "execution_count": null,
      "outputs": [
        {
          "output_type": "stream",
          "text": [
            "Enter the number of rows: 5\n",
            "*  \n",
            "* *  \n",
            "* * *  \n",
            "* * * *  \n",
            "* * * * *  \n",
            "* * * *  \n",
            "* * *  \n",
            "* *  \n",
            "*  \n",
            " \n"
          ],
          "name": "stdout"
        }
      ]
    },
    {
      "cell_type": "code",
      "metadata": {
        "colab": {
          "base_uri": "https://localhost:8080/"
        },
        "id": "wa9MWVQz7Fe1",
        "outputId": "5ca75b02-6265-4f53-8dec-07b3231a1544"
      },
      "source": [
        "rows = int(input(\"Enter the number of rows: \"))  \n",
        "for i in range(1,rows+1):\n",
        "  for j in range(i,rows):\n",
        "    print(' ', end=' ')\n",
        "  for k in range(1,i+1):\n",
        "    print('*', end=' ')\n",
        "  print(' ')\n",
        "\n",
        "for i in range(rows,0,-1):\n",
        "  for j in range(i,rows+1):\n",
        "    print(' ',end=' ')\n",
        "  for k in range(1,i):\n",
        "    print('*', end=' ')\n",
        "  print(' ')"
      ],
      "execution_count": null,
      "outputs": [
        {
          "output_type": "stream",
          "text": [
            "Enter the number of rows: 5\n",
            "        *  \n",
            "      * *  \n",
            "    * * *  \n",
            "  * * * *  \n",
            "* * * * *  \n",
            "  * * * *  \n",
            "    * * *  \n",
            "      * *  \n",
            "        *  \n",
            "           \n"
          ],
          "name": "stdout"
        }
      ]
    },
    {
      "cell_type": "code",
      "metadata": {
        "colab": {
          "base_uri": "https://localhost:8080/"
        },
        "id": "lWi2WvRK2HAT",
        "outputId": "8d049e32-2d16-4802-b17b-3302cdb17b94"
      },
      "source": [
        "rows = int(input(\"Enter the number of rows: \"))  \n",
        "k = rows - 2  \n",
        "# Downward pyramid  \n",
        "for i in range(rows, -1 , -1):  \n",
        "    for j in range(k , 0 , -1):  \n",
        "        print(end=\" \")  \n",
        "    k = k + 1  \n",
        "    for j in range(0, i+1):  \n",
        "        print(\"* \" , end=\"\")  \n",
        "    print(' ')  \n",
        "  \n",
        "# Upward pyramid  \n",
        "k = 2 * rows  - 2  \n",
        "for i in range(0 , rows+1):  \n",
        "    for j in range(0 , k):  \n",
        "        print(end=\" \")  \n",
        "    k = k - 1  \n",
        "    for j in range(0, i + 1):  \n",
        "        print(\"* \", end=\"\")  \n",
        "    print(' ')  "
      ],
      "execution_count": null,
      "outputs": [
        {
          "output_type": "stream",
          "text": [
            "Enter the number of rows: 5\n",
            "   * * * * * *  \n",
            "    * * * * *  \n",
            "     * * * *  \n",
            "      * * *  \n",
            "       * *  \n",
            "        *  \n",
            "        *  \n",
            "       * *  \n",
            "      * * *  \n",
            "     * * * *  \n",
            "    * * * * *  \n",
            "   * * * * * *  \n"
          ],
          "name": "stdout"
        }
      ]
    },
    {
      "cell_type": "code",
      "metadata": {
        "colab": {
          "base_uri": "https://localhost:8080/"
        },
        "id": "VX4-TL6w-4od",
        "outputId": "00baf8e8-5b24-49ce-b028-c67a80fc5006"
      },
      "source": [
        "row=int(input())\n",
        "\n",
        "for i in range(0,2*row):\n",
        "    for j in range(0,2*row):\n",
        "      if i == 0:\n",
        "        print(\"*\", end=\"\")\n",
        "\n",
        "print()\n",
        "x=1\n",
        "\n",
        "for r in range(row-1,0,-1):\n",
        "    for c in range(1,r+1):\n",
        "        print(\"*\",end=\"\")\n",
        "    # space between triangles    \n",
        "    for s in range(0,x*2):\n",
        "        print(\"_\",end=\"\")\n",
        "    for c in range(c,0,-1):\n",
        "        print(\"*\",end=\"\")\n",
        "    x=x+1\n",
        "    print()\n"
      ],
      "execution_count": 29,
      "outputs": [
        {
          "output_type": "stream",
          "text": [
            "8\n",
            "****************\n",
            "*******__*******\n",
            "******____******\n",
            "*****______*****\n",
            "****________****\n",
            "***__________***\n",
            "**____________**\n",
            "*______________*\n"
          ],
          "name": "stdout"
        }
      ]
    }
  ]
}